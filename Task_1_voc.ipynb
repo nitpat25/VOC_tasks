{
 "cells": [
  {
   "cell_type": "code",
   "execution_count": 15,
   "id": "4e3e179e",
   "metadata": {},
   "outputs": [
    {
     "name": "stdout",
     "output_type": "stream",
     "text": [
      "Reversed string: !dlrow ,olleH\n"
     ]
    }
   ],
   "source": [
    "def reverse_string(s):\n",
    "    reversed = \"\"\n",
    "    for i in range(len(s) - 1, -1, -1):    # 0 cannot be a step \n",
    "        reversed += s[i]\n",
    "    return reversed\n",
    "\n",
    "def main():\n",
    "    input_string = \"Hello, world!\"\n",
    "    reversed_string = reverse_string(input_string)\n",
    "    print(f\"Reversed string: {reversed_string}\")\n",
    "\n",
    "if __name__ == \"__main__\":\n",
    "    main()\n"
   ]
  },
  {
   "cell_type": "code",
   "execution_count": 7,
   "id": "8ffd66c0",
   "metadata": {},
   "outputs": [
    {
     "name": "stdout",
     "output_type": "stream",
     "text": [
      "Please enter your age: 6\n",
      "Invalid input. You must be at least 18 years old.\n"
     ]
    }
   ],
   "source": [
    "def get_age():\n",
    "    age = int(input(\"Please enter your age: \")) # age should take an integer as input and not string.\n",
    "    if age >= 18:\n",
    "        return int(age)\n",
    "    else:\n",
    "        return None\n",
    "\n",
    "def main():\n",
    "    age = get_age()\n",
    "    if age:\n",
    "        print(f\"You are {age} years old and eligible.\")\n",
    "    else:\n",
    "        print(\"Invalid input. You must be at least 18 years old.\")\n",
    "\n",
    "if __name__ == \"__main__\":\n",
    "    main()\n"
   ]
  },
  {
   "cell_type": "code",
   "execution_count": 12,
   "id": "8db9e207",
   "metadata": {},
   "outputs": [
    {
     "name": "stdout",
     "output_type": "stream",
     "text": [
      "File 'C:\\Users\\birad\\OneDrive\\Documents\\Ride\\New folder\\MySQL\\modules\\data\\db_mysql_catalog_reporting\\Basic_Text.tpl\\basic_text_report.txt.tpl' processed successfully.\n"
     ]
    }
   ],
   "source": [
    "def read_and_write_file(filename):\n",
    "    try:\n",
    "        with open(filename, 'r') as file:\n",
    "            content = file.read()\n",
    "        with open(filename, 'w') as file:\n",
    "            file.write(content.upper())\n",
    "        print(f\"File '{filename}' processed successfully.\")\n",
    "    except Exception as e:\n",
    "        print(f\"An error occurred: {str(e)}\")\n",
    "\n",
    "def main():\n",
    "    filename = \"C:\\\\Users\\\\birad\\\\OneDrive\\\\Documents\\\\Ride\\\\New folder\\\\MySQL\\\\modules\\\\data\\\\db_mysql_catalog_reporting\\\\Basic_Text.tpl\\\\basic_text_report.txt.tpl\"\n",
    "    read_and_write_file(filename)\n",
    "\n",
    "if __name__ == \"__main__\":\n",
    "    main()\n"
   ]
  },
  {
   "cell_type": "code",
   "execution_count": 10,
   "id": "658b6448",
   "metadata": {},
   "outputs": [
    {
     "name": "stdout",
     "output_type": "stream",
     "text": [
      "The sorted array is: [0, 1, 9, 10, 27, 32, 38, 43, 60, 82]\n"
     ]
    }
   ],
   "source": [
    "def merge_sort(arr):\n",
    "    if len(arr) <= 1:\n",
    "        return arr\n",
    "    \n",
    "    mid = len(arr) // 2\n",
    "    left = arr[:mid]\n",
    "    right = arr[mid:]\n",
    "    \n",
    "    merge_sort(left)\n",
    "    merge_sort(right)\n",
    "    \n",
    "    i = j = k = 0\n",
    "    \n",
    "    while i < len(left) and j < len(right):\n",
    "        if left[i] < right[j]:\n",
    "            arr[k] = left[i]\n",
    "            i += 1\n",
    "        else:\n",
    "            arr[k] = right[j]\n",
    "            j += 1\n",
    "        k += 1\n",
    "    \n",
    "    while i < len(left):\n",
    "        arr[k] = left[i]\n",
    "        i += 1\n",
    "        k += 1\n",
    "    \n",
    "    while j < len(right):\n",
    "        arr[k] = right[j]\n",
    "        j += 1\n",
    "        k += 1\n",
    "\n",
    "arr = [38, 27, 43, 1, 9, 82, 10,0,60,32]\n",
    "merge_sort(arr)\n",
    "print(f\"The sorted array is: {arr}\")\n"
   ]
  },
  {
   "cell_type": "code",
   "execution_count": null,
   "id": "c8698de2",
   "metadata": {},
   "outputs": [],
   "source": []
  }
 ],
 "metadata": {
  "kernelspec": {
   "display_name": "Python 3 (ipykernel)",
   "language": "python",
   "name": "python3"
  },
  "language_info": {
   "codemirror_mode": {
    "name": "ipython",
    "version": 3
   },
   "file_extension": ".py",
   "mimetype": "text/x-python",
   "name": "python",
   "nbconvert_exporter": "python",
   "pygments_lexer": "ipython3",
   "version": "3.9.13"
  }
 },
 "nbformat": 4,
 "nbformat_minor": 5
}
