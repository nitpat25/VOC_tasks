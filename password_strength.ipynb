{
 "cells": [
  {
   "cell_type": "code",
   "execution_count": 12,
   "id": "22ac7cc1",
   "metadata": {},
   "outputs": [
    {
     "name": "stdout",
     "output_type": "stream",
     "text": [
      "Enter your password:2344546\n",
      "Medium strength, please include more special characters, Upper case characters and Lower case characters characters in your password\n"
     ]
    }
   ],
   "source": [
    "import string\n",
    "import math\n",
    "pwd = input(\"Enter your password:\")\n",
    "n = len(pwd)\n",
    "\n",
    "def count_special_chars(pwd):\n",
    "    special_chars = 0\n",
    "    for char in pwd:\n",
    "        if char in string.punctuation:\n",
    "            special_chars += 1\n",
    "    return special_chars\n",
    "\n",
    "def count_lower_chars(pwd):\n",
    "    lower_chars = 0\n",
    "    for char in pwd:\n",
    "        if char.islower():\n",
    "            lower_chars += 1\n",
    "    return lower_chars\n",
    "\n",
    "def count_upper_chars(pwd):\n",
    "    upper_chars = 0\n",
    "    for char in pwd:\n",
    "        if char.isupper():\n",
    "            upper_chars += 1\n",
    "    return upper_chars\n",
    "\n",
    "def count_digit_chars(pwd):\n",
    "    digit_chars = 0\n",
    "    for char in pwd:\n",
    "        if char.isdigit():\n",
    "            digit_chars += 1\n",
    "    return digit_chars\n",
    "\n",
    "def check_strength(pwd):\n",
    "    special_chars = count_special_chars(pwd)\n",
    "    lower_chars = count_lower_chars(pwd)\n",
    "    upper_chars = count_upper_chars(pwd)\n",
    "    digit_chars = count_digit_chars(pwd)\n",
    "\n",
    "    my_dict = {'Special characters': special_chars, 'Lower case characters': lower_chars, 'Upper case characters': upper_chars, 'Digits': digit_chars}\n",
    "    sorted_dict = dict(sorted(my_dict.items(), key=lambda item: item[1], reverse=True))\n",
    "    sorted_values = [value for value in sorted_dict.values()]\n",
    "    sorted_list = list(sorted_dict.keys())\n",
    "\n",
    "    m = math.floor(0.70*n)\n",
    "    s = math.floor(0.25*n)\n",
    "    if n > 8:\n",
    "        if (sorted_values[0]) > m and special_chars < s:\n",
    "            print(f\"Please include more special characters , {sorted_list[-1]}, and {sorted_list[-2]} in your password\")\n",
    "        elif (sorted_values[0]) > m or special_chars > s:\n",
    "            print(f\"Please include more {sorted_list[-1]}, and {sorted_list[-2]} characters in your password\")\n",
    "        else:\n",
    "            print(\"Strong password\")\n",
    "    elif 6 <= n and n<= 8 and special_chars < s:\n",
    "        print(f\"Medium strength, please include more special characters, {sorted_list[-1]} and {sorted_list[-2]} characters in your password\")\n",
    "    elif 6 <= n and n<= 8 and special_chars > s:\n",
    "        print(f\"Medium strength, please include more {sorted_list[-1]} and {sorted_list[-2]} characters in your password\")\n",
    "    else:\n",
    "        print(\"Weak password, please include special characters,upper case,lower case and digits\")\n",
    "\n",
    "check_strength(pwd)\n"
   ]
  },
  {
   "cell_type": "code",
   "execution_count": null,
   "id": "8f173bfa",
   "metadata": {},
   "outputs": [],
   "source": []
  },
  {
   "cell_type": "code",
   "execution_count": null,
   "id": "e0cadada",
   "metadata": {},
   "outputs": [],
   "source": []
  }
 ],
 "metadata": {
  "kernelspec": {
   "display_name": "Python 3 (ipykernel)",
   "language": "python",
   "name": "python3"
  },
  "language_info": {
   "codemirror_mode": {
    "name": "ipython",
    "version": 3
   },
   "file_extension": ".py",
   "mimetype": "text/x-python",
   "name": "python",
   "nbconvert_exporter": "python",
   "pygments_lexer": "ipython3",
   "version": "3.9.13"
  }
 },
 "nbformat": 4,
 "nbformat_minor": 5
}
